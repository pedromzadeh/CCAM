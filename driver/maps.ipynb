{
 "cells": [
  {
   "cell_type": "markdown",
   "metadata": {},
   "source": [
    "# Dynamics via acceleration maps"
   ]
  },
  {
   "attachments": {},
   "cell_type": "markdown",
   "metadata": {},
   "source": [
    "- `medium` dataset has `n_stats = 500`\n",
    "- `large` dataset has `n_stats = 250`\n",
    "- `varying target area` dataset has `n_stats = 250`\n",
    "\n"
   ]
  },
  {
   "cell_type": "code",
   "execution_count": null,
   "metadata": {},
   "outputs": [],
   "source": [
    "import matplotlib.pyplot as plt\n",
    "import numpy as np\n",
    "import pandas as pd\n",
    "\n",
    "from analysis import analysis\n",
    "\n",
    "L_box = 50\n",
    "mu_factor = 6  # conversion to microns\n",
    "min_factor = 8  # conversion to minutes"
   ]
  },
  {
   "attachments": {},
   "cell_type": "markdown",
   "metadata": {},
   "source": [
    "#### Load grid by grid\n",
    "- Load `fulltake_gid*.pkl`, which is all of the runs for a config"
   ]
  },
  {
   "cell_type": "code",
   "execution_count": null,
   "metadata": {},
   "outputs": [],
   "source": [
    "from glob import glob\n",
    "\n",
    "files = glob(\"data/new mp/fulltake_gid1*.pkl\")\n",
    "data = []\n",
    "\n",
    "for file in files:\n",
    "    df = pd.read_pickle(file)\n",
    "\n",
    "    # INCREASE TIME INTERVAL BTW RECORDS\n",
    "    # df = df.iloc[::2]\n",
    "\n",
    "    df.x *= mu_factor\n",
    "    df.y *= mu_factor\n",
    "    data.append(df)\n",
    "\n",
    "print(f\"Loaded {len(data)} configurations.\")\n",
    "[\n",
    "    print(\n",
    "        f\"\\t - Grid {gid}: {len(df)} total data points | {len(df.rid.unique())} runs | {len(df[df.rid==0])} data points / run\"\n",
    "    )\n",
    "    for gid, df in zip(range(8), data)\n",
    "]\n",
    "display(data[0])\n"
   ]
  },
  {
   "attachments": {},
   "cell_type": "markdown",
   "metadata": {},
   "source": [
    "### Position dist"
   ]
  },
  {
   "cell_type": "code",
   "execution_count": null,
   "metadata": {},
   "outputs": [],
   "source": [
    "plt.rc('axes', titlesize=8)\n",
    "analysis.position_dist(data, mu_factor)"
   ]
  },
  {
   "attachments": {},
   "cell_type": "markdown",
   "metadata": {},
   "source": [
    "### Dropping configs that don't cross"
   ]
  },
  {
   "cell_type": "code",
   "execution_count": null,
   "metadata": {},
   "outputs": [],
   "source": [
    "filtered = []\n",
    "for df in data:\n",
    "    if df.gid.iloc[0] in [103, 105, 107]:\n",
    "        filtered.append(df)\n",
    "data = filtered"
   ]
  },
  {
   "cell_type": "markdown",
   "metadata": {},
   "source": [
    "### Hopping times"
   ]
  },
  {
   "cell_type": "code",
   "execution_count": null,
   "metadata": {},
   "outputs": [],
   "source": [
    "fig, axs = plt.subplots(3, 3, figsize=(8, 6), dpi=200)\n",
    "plt.rc('axes', titlesize=12)\n",
    "\n",
    "x, y = np.meshgrid([0, 1, 2], [0, 1, 2])\n",
    "\n",
    "# in microns\n",
    "d = 73 / 2\n",
    "xL = (L_box / 2) * 6 - d\n",
    "xR = (L_box / 2) * 6 + d\n",
    "buffer = 38 / 2\n",
    "\n",
    "for i, j, df in zip(x.flatten(), y.flatten(), data):\n",
    "    beta = df.beta.iloc[0]\n",
    "    tau = df.tau.iloc[0]\n",
    "    D = df.D.iloc[0]\n",
    "    axs[i, j].set_title(rf\"$\\beta$ = {beta}, $\\tau$ = {tau}, $D$ = {D}\", y=1.1)\n",
    "\n",
    "    hop_times = []\n",
    "    for rid, d in df.groupby(\"rid\"):\n",
    "        for t in analysis.get_hopping_times(d, xL, xR, buffer):\n",
    "            hop_times.append(t)\n",
    "\n",
    "    if len(hop_times) == 0:\n",
    "        continue\n",
    "\n",
    "    axs[i, j].hist(hop_times, color=\"red\", alpha=0.5, density=True)\n",
    "    axs[i, j].set_xlabel(\"Hopping time (hr)\", fontsize=14)\n",
    "\n",
    "axs[2, 2].remove()\n",
    "plt.tight_layout()\n",
    "plt.subplots_adjust(hspace=2, wspace=2)\n",
    "plt.show()\n"
   ]
  },
  {
   "attachments": {},
   "cell_type": "markdown",
   "metadata": {},
   "source": [
    "## Map bin statistics"
   ]
  },
  {
   "cell_type": "code",
   "execution_count": null,
   "metadata": {},
   "outputs": [],
   "source": [
    "fig1, axs1 = plt.subplots(3, 3, figsize=(8, 6), dpi=200)\n",
    "fig2, axs2 = plt.subplots(3, 3, figsize=(8, 6), dpi=200)\n",
    "\n",
    "x, y = np.meshgrid([0, 1, 2], [0, 1, 2])\n",
    "global_x_v_a = []\n",
    "\n",
    "for i, j, df_gid in zip(x.flatten(), y.flatten(), data):\n",
    "    beta = df_gid.beta.iloc[0]\n",
    "    tau = df_gid.tau.iloc[0]\n",
    "    D = df_gid.D.iloc[0]\n",
    "    axs1[i, j].set_title(rf\"$\\beta$ = {beta}, $\\tau$ = {tau}, $D$ = {D}\", y=1.1)\n",
    "    axs2[i, j].set_title(rf\"$\\beta$ = {beta}, $\\tau$ = {tau}, $D$ = {D}\", y=1.1)\n",
    "\n",
    "    # x, v, a values for this entire config\n",
    "    grid_x_v_a = []\n",
    "\n",
    "    # compute speed and acc for each run\n",
    "    for rid, df_rid in df_gid.groupby(\"rid\"):\n",
    "        x_v_a = analysis.calc_v_a_from_position(df_rid.x, df_rid[\"time[hr]\"])\n",
    "        x_v_a[\"gid\"] = df_rid.gid.iloc[0]\n",
    "        x_v_a[\"rid\"] = df_rid.rid.iloc[0]\n",
    "        grid_x_v_a.append(x_v_a)\n",
    "\n",
    "    # consider the entire config to set bounds of acc field\n",
    "    grid_x_v_a = pd.concat(grid_x_v_a)\n",
    "    bounds = grid_x_v_a.agg([\"min\", \"max\"])\n",
    "    xmin, xmax = bounds[\"x\"]\n",
    "    vmin, vmax = bounds[\"v\"]\n",
    "\n",
    "    # with a 112mu mp, this gives bins of dim 3.5mu x 3.5mu\n",
    "    nbins = 32\n",
    "    dx = (xmax - xmin) / nbins\n",
    "    dv = (vmax - vmin) / nbins\n",
    "\n",
    "    x1 = (\"x\", xmin, dx)\n",
    "    x2 = (\"v\", vmin, dv)\n",
    "\n",
    "    analysis.get_bin_indices(grid_x_v_a, nbins, x1, x2)\n",
    "\n",
    "    bin_counts = grid_x_v_a.groupby([\"x_bin\", \"v_bin\"]).size().to_numpy()\n",
    "    bin_stds = grid_x_v_a.groupby([\"x_bin\", \"v_bin\"]).a.std().to_numpy()\n",
    "    axs1[i, j].hist(bin_counts, bins=30, color=\"black\", alpha=0.8)\n",
    "    axs2[i, j].hist(bin_stds/np.sqrt(bin_counts), bins=30, color=\"orange\", alpha=0.8)\n",
    "\n",
    "    if i == 2:\n",
    "        axs1[i, j].set_xlabel(\"Bin counts\")\n",
    "        axs2[i, j].set_xlabel(r\"std err of mean ($\\mu$m/hr$^2$)\")\n",
    "\n",
    "    global_x_v_a.append(grid_x_v_a)\n",
    "\n",
    "axs1[2, 2].remove()\n",
    "axs2[2, 2].remove()\n",
    "\n",
    "fig1.tight_layout()\n",
    "fig1.subplots_adjust(hspace=1.5, wspace=.5)\n",
    "\n",
    "fig2.tight_layout()\n",
    "fig2.subplots_adjust(hspace=1.5, wspace=.5)\n",
    "\n",
    "plt.show()"
   ]
  },
  {
   "attachments": {},
   "cell_type": "markdown",
   "metadata": {},
   "source": [
    "## Acceleration maps and flow lines"
   ]
  },
  {
   "cell_type": "code",
   "execution_count": null,
   "metadata": {},
   "outputs": [],
   "source": [
    "from importlib import reload\n",
    "reload(analysis)"
   ]
  },
  {
   "cell_type": "code",
   "execution_count": null,
   "metadata": {},
   "outputs": [],
   "source": [
    "plt.rc(\"axes\", titlesize=10)\n",
    "\n",
    "fig1, axs1 = plt.subplots(3, 2, figsize=(4, 5), dpi=200)\n",
    "fig2, axs2 = plt.subplots(3, 2, figsize=(4, 5), dpi=200)\n",
    "\n",
    "x, y = np.meshgrid([0, 1, 2], [0, 1])\n",
    "\n",
    "for i, j, df_gid, my_grid in zip(x.flatten(), y.flatten(), data, global_x_v_a):\n",
    "    beta = df_gid.beta.iloc[0]\n",
    "    tau = df_gid.tau.iloc[0]\n",
    "    D = df_gid.D.iloc[0]\n",
    "\n",
    "    axs1[i, j].set_title(rf\"$\\beta$ = {beta}, $\\tau$ = {tau}, $D$ = {D}\", y=1.1)\n",
    "    axs2[i, j].set_title(rf\"$\\beta$ = {beta}, $\\tau$ = {tau}, $D$ = {D}\", y=1.1)\n",
    "\n",
    "    bounds = my_grid.agg([\"min\", \"max\"])\n",
    "    xmin, xmax = bounds[\"x\"]\n",
    "    vmin, vmax = bounds[\"v\"]\n",
    "\n",
    "    acc_map = analysis.map_a(my_grid, nbins, \"x_bin\", \"v_bin\", min_pts=2)\n",
    "    analysis.map_imshow(acc_map, axs1[i, j], (xmin, xmax, vmin, vmax), nbins)\n",
    "    analysis.streamplot(\n",
    "        acc_map, axs2[i, j], (xmin, xmax, vmin, vmax), nbins, init_cond=True, n_skip=5, one_side=None\n",
    "    )\n",
    "\n",
    "    axs1[i, j].axis(\"off\")\n",
    "    axs2[i, j].axis(\"off\")\n",
    "\n",
    "[ax.remove() for ax in axs1[1:, 1]]\n",
    "fig1.tight_layout()\n",
    "fig1.subplots_adjust(hspace=1)\n",
    "\n",
    "[ax.remove() for ax in axs2[1:, 1]]\n",
    "fig2.tight_layout()\n",
    "fig2.subplots_adjust(hspace=1)\n",
    "\n",
    "plt.show()\n"
   ]
  },
  {
   "attachments": {},
   "cell_type": "markdown",
   "metadata": {},
   "source": [
    "# Debugging purposes"
   ]
  },
  {
   "cell_type": "code",
   "execution_count": null,
   "metadata": {},
   "outputs": [],
   "source": [
    "from substrate.substrates import Substrate\n",
    "\n",
    "sub = Substrate(200, 50, 0.2)\n",
    "mp = sub.two_state_sub(bridge_width=17)\n",
    "\n",
    "plt.imshow(mp, extent=[0, 300, 0, 300], cmap=\"Blues_r\", alpha=0.5)\n",
    "plt.colorbar()\n",
    "plt.contour(mp, levels=[0.5], extent=[0, 300, 0, 300], linewidths=[2])\n",
    "plt.ylim([100, 200])\n",
    "plt.xlim([75, 225])\n",
    "\n",
    "plt.show()\n",
    "\n"
   ]
  },
  {
   "cell_type": "code",
   "execution_count": null,
   "metadata": {},
   "outputs": [],
   "source": [
    "# PLOT FLOW LINES\n",
    "X, Y = np.meshgrid(np.linspace(xmin, xmax, nbins), np.linspace(vmin, vmax, nbins))\n",
    "\n",
    "fig, ax = plt.subplots(1, 1)\n",
    "fig_temp, ax_temp = plt.subplots(1, 1)\n",
    "\n",
    "ax.streamplot(\n",
    "    X,\n",
    "    Y,\n",
    "    Y,\n",
    "    acc_map,\n",
    "    linewidth=2,\n",
    "    integration_direction=\"forward\",\n",
    "    color=\"gainsboro\",\n",
    "    density=2,\n",
    ")\n",
    "\n",
    "x, y = X[0][np.where(acc_map != np.nan)[1]], Y[:, 0][np.where(acc_map != np.nan)[0]]\n",
    "\n",
    "x, y = x[100:350], y[100:350]\n",
    "\n",
    "for xx, yy in zip(x, y):\n",
    "    stream = ax_temp.streamplot(\n",
    "        X,\n",
    "        Y,\n",
    "        Y,\n",
    "        acc_map,\n",
    "        start_points=[[xx, yy]],\n",
    "        integration_direction=\"forward\",\n",
    "        broken_streamlines=False\n",
    "    )\n",
    "    traj = np.array(stream.lines.get_segments())\n",
    "    \n",
    "    if len(traj) == 0:\n",
    "        continue\n",
    "\n",
    "    flag = traj[-1][-1][0] < 150\n",
    "    if flag:\n",
    "        color=\"red\"\n",
    "    else:\n",
    "        color=\"blue\"\n",
    "    \n",
    "    ax.streamplot(\n",
    "        X,\n",
    "        Y,\n",
    "        Y,\n",
    "        acc_map,\n",
    "        linewidth=0.5,\n",
    "        start_points=[[xx, yy]],\n",
    "        integration_direction=\"forward\",\n",
    "        color=color,\n",
    "        broken_streamlines=False\n",
    "    )\n",
    "\n",
    "plt.close(fig_temp)\n",
    "plt.show()"
   ]
  },
  {
   "cell_type": "code",
   "execution_count": null,
   "metadata": {},
   "outputs": [],
   "source": []
  }
 ],
 "metadata": {
  "kernelspec": {
   "display_name": "ccam",
   "language": "python",
   "name": "python3"
  },
  "language_info": {
   "codemirror_mode": {
    "name": "ipython",
    "version": 3
   },
   "file_extension": ".py",
   "mimetype": "text/x-python",
   "name": "python",
   "nbconvert_exporter": "python",
   "pygments_lexer": "ipython3",
   "version": "3.10.8"
  },
  "orig_nbformat": 4,
  "vscode": {
   "interpreter": {
    "hash": "9713f7ebc46dc75c7725b05c41e89d9728ea3866542c1de8245d612948f7117b"
   }
  }
 },
 "nbformat": 4,
 "nbformat_minor": 2
}
