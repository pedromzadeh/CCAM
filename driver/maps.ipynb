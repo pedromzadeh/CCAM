{
 "cells": [
  {
   "cell_type": "markdown",
   "metadata": {},
   "source": [
    "# Dynamics via acceleration maps"
   ]
  },
  {
   "cell_type": "code",
   "execution_count": null,
   "metadata": {},
   "outputs": [],
   "source": [
    "import matplotlib.pyplot as plt\n",
    "import numpy as np\n",
    "import pandas as pd\n",
    "\n",
    "from analysis import analysis\n",
    "\n",
    "mu_factor = 6   # mu\n",
    "min_factor = 8  # min"
   ]
  },
  {
   "cell_type": "markdown",
   "metadata": {},
   "source": [
    "#### Load"
   ]
  },
  {
   "cell_type": "code",
   "execution_count": null,
   "metadata": {},
   "outputs": [],
   "source": [
    "global_pos = pd.read_pickle(\"position_D_0.05.pkl\")\n",
    "global_pos.rename(columns={\"grid id\" : \"gid\", \"run id\" : \"rid\"}, inplace=True)\n",
    "print(global_pos.D.unique(), global_pos.R_eq.unique())\n",
    "\n",
    "global_pos.x *= mu_factor\n",
    "global_pos.y *= mu_factor\n",
    "\n",
    "global_pos"
   ]
  },
  {
   "cell_type": "markdown",
   "metadata": {},
   "source": [
    "#### Position distribution"
   ]
  },
  {
   "cell_type": "code",
   "execution_count": null,
   "metadata": {},
   "outputs": [],
   "source": [
    "analysis.view_position_dist(global_pos, mu_factor)\n",
    "\n",
    "# escaped_gids = global_pos.query(\"y > 170 or y < 130 or x > 250 or x < 50\").gid.to_list()\n",
    "# escaped_runs = global_pos.query(\"y > 170 or y < 130 or x > 250 or x < 50\").rid.to_list()\n",
    "\n",
    "# print(f\"Eliminating {len(escaped_gids)} runs..\")\n",
    "# global_pos = global_pos.query(\"gid != @escaped_gids and rid != @escaped_runs\")\n",
    "# analysis.view_position_dist(global_pos, mu_factor)\n"
   ]
  },
  {
   "cell_type": "markdown",
   "metadata": {},
   "source": [
    "### Hopping times"
   ]
  },
  {
   "cell_type": "code",
   "execution_count": null,
   "metadata": {},
   "outputs": [],
   "source": [
    "hop_times = []\n",
    "for gid, df_gid in global_pos.groupby(\"gid\"):\n",
    "    for rid, df in df_gid.groupby(\"rid\"):\n",
    "        t = analysis.get_hopping_times(df, mu_factor, min_factor)\n",
    "        [hop_times.append(el) for el in t]\n"
   ]
  },
  {
   "cell_type": "code",
   "execution_count": null,
   "metadata": {},
   "outputs": [],
   "source": [
    "plt.figure(figsize=(3, 3))\n",
    "plt.hist(np.array(hop_times)/60, bins=50, color=\"red\", alpha=0.5)\n",
    "plt.xlabel(\"Hopping time (hr)\")\n",
    "plt.ylabel(\"Counts\")\n",
    "plt.show()"
   ]
  },
  {
   "cell_type": "markdown",
   "metadata": {},
   "source": [
    "### Acceleration maps"
   ]
  },
  {
   "cell_type": "code",
   "execution_count": null,
   "metadata": {},
   "outputs": [],
   "source": [
    "global_x_v_a = []\n",
    "\n",
    "for gid, df_gid in global_pos.groupby(\"gid\"):\n",
    "    for rid, df in df_gid.groupby(\"rid\"):\n",
    "        x_v_a = analysis.calc_v_a_from_position(df.x, dt=0.002 * 500 * min_factor)\n",
    "        x_v_a[\"gid\"] = gid\n",
    "        x_v_a[\"rid\"] = rid\n",
    "        global_x_v_a.append(x_v_a)\n",
    "\n",
    "global_x_v_a = pd.concat(global_x_v_a)\n",
    "global_x_v_a\n"
   ]
  },
  {
   "cell_type": "code",
   "execution_count": null,
   "metadata": {},
   "outputs": [],
   "source": [
    "bounds = global_x_v_a.agg([\"min\", max])\n",
    "xmin, xmax = bounds[\"x\"]\n",
    "vmin, vmax = bounds[\"v\"]\n",
    "\n",
    "nbins = 30\n",
    "dx = (xmax - xmin) / nbins\n",
    "dv = (vmax - vmin) / nbins\n",
    "\n",
    "print(xmin, xmax)\n",
    "print(vmin, vmax)"
   ]
  },
  {
   "cell_type": "code",
   "execution_count": null,
   "metadata": {},
   "outputs": [],
   "source": [
    "x1 = (\"x\", xmin, dx)\n",
    "x2 = (\"v\", vmin, dv)\n",
    "\n",
    "analysis.get_bin_indices(global_x_v_a, nbins, x1, x2)\n",
    "global_x_v_a"
   ]
  },
  {
   "cell_type": "code",
   "execution_count": null,
   "metadata": {},
   "outputs": [],
   "source": [
    "map_a = analysis.map_a(global_x_v_a, nbins, \"x_bin\", \"v_bin\")\n",
    "\n",
    "from matplotlib.ticker import FormatStrFormatter\n",
    "\n",
    "plt.imshow(map_a, origin=\"lower\", interpolation=\"none\", cmap=\"rainbow\")\n",
    "plt.xticks(\n",
    "    [0, nbins // 2, nbins],\n",
    "    [round(xmin, 2), round((xmin + xmax) / 2, 2), round(xmax, 2)],\n",
    ")\n",
    "plt.yticks(\n",
    "    [0, nbins // 2, nbins], [round(vmin, 2), round((vmin + vmax) / 2, 0), round(vmax, 2)]\n",
    ")\n",
    "cbar = plt.colorbar()\n",
    "cbar.set_label(r\"$F$ ($\\mu$m/hr$^2$)\")\n",
    "plt.xlabel(r\"$x$ ($\\mu$m)\")\n",
    "plt.ylabel(r\"$v$ ($\\mu$m/hr)\")\n",
    "plt.show()\n"
   ]
  },
  {
   "cell_type": "markdown",
   "metadata": {},
   "source": [
    "### Streamlines"
   ]
  },
  {
   "cell_type": "code",
   "execution_count": null,
   "metadata": {},
   "outputs": [],
   "source": [
    "X, Y = np.meshgrid(np.linspace(xmin, xmax, nbins), np.linspace(vmin, vmax, nbins))\n",
    "\n",
    "V = np.empty(X.shape)\n",
    "V[:] = np.nan\n",
    "\n",
    "for (j, i), df in global_x_v_a.groupby([\"x_bin\", \"v_bin\"]):\n",
    "    a = df.a.mean()\n",
    "    V[i, j] = a \n",
    "\n",
    "plt.streamplot(X, Y, Y, V, linewidth=2, color=V, cmap=\"rainbow\")\n",
    "plt.xlabel(r\"$x$ ($\\mu$m)\")\n",
    "plt.ylabel(r\"$v$ ($\\mu$m/hr)\")\n",
    "plt.show()"
   ]
  },
  {
   "cell_type": "code",
   "execution_count": null,
   "metadata": {},
   "outputs": [],
   "source": [
    "c = plt.get_cmap(\"Set2\")(3)\n",
    "plt.quiver(X, Y, Y, V, np.where(V>0, 1, 0), cmap=\"Set2\", width=0.007)\n",
    "plt.streamplot(X, Y, Y, V, linewidth=2, color=c)\n",
    "plt.xlabel(r\"$x$ ($\\mu$m)\")\n",
    "plt.ylabel(r\"$v$ ($\\mu$m/hr)\")\n",
    "plt.show()"
   ]
  },
  {
   "cell_type": "code",
   "execution_count": null,
   "metadata": {},
   "outputs": [],
   "source": []
  }
 ],
 "metadata": {
  "kernelspec": {
   "display_name": "Python 3.10.4 ('ccam')",
   "language": "python",
   "name": "python3"
  },
  "language_info": {
   "codemirror_mode": {
    "name": "ipython",
    "version": 3
   },
   "file_extension": ".py",
   "mimetype": "text/x-python",
   "name": "python",
   "nbconvert_exporter": "python",
   "pygments_lexer": "ipython3",
   "version": "3.10.4"
  },
  "orig_nbformat": 4,
  "vscode": {
   "interpreter": {
    "hash": "9713f7ebc46dc75c7725b05c41e89d9728ea3866542c1de8245d612948f7117b"
   }
  }
 },
 "nbformat": 4,
 "nbformat_minor": 2
}
