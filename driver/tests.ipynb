{
 "cells": [
  {
   "cell_type": "markdown",
   "metadata": {},
   "source": [
    "### Run a sample size of 200"
   ]
  },
  {
   "cell_type": "code",
   "execution_count": null,
   "metadata": {},
   "outputs": [
    {
     "ename": "",
     "evalue": "",
     "output_type": "error",
     "traceback": [
      "\u001b[1;31mThe Kernel crashed while executing code in the the current cell or a previous cell. Please review the code in the cell(s) to identify a possible cause of the failure. Click <a href='https://aka.ms/vscodeJupyterKernelCrash'>here</a> for more info. View Jupyter <a href='command:jupyter.viewOutput'>log</a> for further details."
     ]
    }
   ],
   "source": [
    "from simulator.simulator import Simulator\n",
    "import multiprocessing\n",
    "from tqdm import tqdm\n",
    "\n",
    "# define a simulator object\n",
    "simulator = Simulator()\n",
    "n_workers = 2\n",
    "\n",
    "processes = [\n",
    "    multiprocessing.Process(target=simulator.execute, args=[run_id, 0])\n",
    "    for run_id in range(n_workers)\n",
    "]\n",
    "\n",
    "# begin each process\n",
    "for p in processes:\n",
    "    p.start()\n",
    "\n",
    "# wait to proceed until all finish\n",
    "for p in tqdm(processes):\n",
    "    p.join()"
   ]
  },
  {
   "cell_type": "code",
   "execution_count": null,
   "metadata": {},
   "outputs": [],
   "source": []
  }
 ],
 "metadata": {
  "kernelspec": {
   "display_name": "Python 3.10.4 ('collider')",
   "language": "python",
   "name": "python3"
  },
  "language_info": {
   "codemirror_mode": {
    "name": "ipython",
    "version": 3
   },
   "file_extension": ".py",
   "mimetype": "text/x-python",
   "name": "python",
   "nbconvert_exporter": "python",
   "pygments_lexer": "ipython3",
   "version": "3.10.4"
  },
  "orig_nbformat": 4,
  "vscode": {
   "interpreter": {
    "hash": "4d7b84004684b09d8a44f43ce4072b85c3369059811ad9ea46c9d36b7c9e1c2f"
   }
  }
 },
 "nbformat": 4,
 "nbformat_minor": 2
}
