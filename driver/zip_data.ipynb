{
 "cells": [
  {
   "cell_type": "code",
   "execution_count": null,
   "metadata": {},
   "outputs": [],
   "source": [
    "import pandas as pd\n",
    "from glob import glob\n",
    "\n",
    "data_files = glob(f\"../output/integrins/grid_id*/run_0/result.csv\")"
   ]
  },
  {
   "cell_type": "code",
   "execution_count": null,
   "metadata": {},
   "outputs": [],
   "source": [
    "table = []\n",
    "for csv in data_files:\n",
    "    k = int(csv.split(\"/\")[3].split(\"_id\")[1])\n",
    "    df = pd.read_csv(csv).drop(columns=[\"Unnamed: 0\"])\n",
    "    df[\"run\"] = k\n",
    "    table.append(df)\n",
    "\n",
    "table = pd.concat(table)\n",
    "table"
   ]
  },
  {
   "cell_type": "code",
   "execution_count": null,
   "metadata": {},
   "outputs": [],
   "source": [
    "table.to_pickle(\"position_D0_05.pkl\")"
   ]
  }
 ],
 "metadata": {
  "language_info": {
   "name": "python"
  },
  "orig_nbformat": 4
 },
 "nbformat": 4,
 "nbformat_minor": 2
}
