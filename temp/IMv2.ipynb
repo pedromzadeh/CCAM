{
 "cells": [
  {
   "cell_type": "code",
   "execution_count": 1,
   "metadata": {},
   "outputs": [],
   "source": [
    "from cell.cell import Cell\n",
    "from substrate.substrates import Substrate\n",
    "from box.sim_box import SimulationBox\n",
    "\n",
    "import numpy as np\n",
    "import matplotlib.pyplot as plt\n"
   ]
  },
  {
   "cell_type": "code",
   "execution_count": 2,
   "metadata": {},
   "outputs": [],
   "source": [
    "def plot_cell(cell, L_box=50, i=None, save=False):\n",
    "    plt.figure(figsize=(8, 3), dpi=100)\n",
    "    plt.subplot(121)\n",
    "    plt.imshow(\n",
    "    cell.phi, extent=[0, L_box, 0, L_box], origin=\"lower\", cmap=\"Blues\"\n",
    "    )\n",
    "    cbar = plt.colorbar()\n",
    "    cbar.set_label(r\"$\\phi$\")\n",
    "    plt.contour(\n",
    "        cell.phi,\n",
    "        levels=[0.5],\n",
    "        extent=[0, L_box, 0, L_box],\n",
    "        origin=\"lower\",\n",
    "        linewidths=[3],\n",
    "        colors=[\"black\"],\n",
    "    )\n",
    "\n",
    "    plt.subplot(122)\n",
    "    plt.imshow(\n",
    "    cell.p_field, extent=[0, L_box, 0, L_box], origin=\"lower\", cmap=\"coolwarm\"\n",
    "    )\n",
    "    cbar = plt.colorbar()\n",
    "    cbar.set_label(r\"$\\mathbb{P}\\equiv \\phi \\rho$\")\n",
    "    plt.contour(\n",
    "        cell.phi,\n",
    "        levels=[0.5],\n",
    "        extent=[0, L_box, 0, L_box],\n",
    "        origin=\"lower\",\n",
    "        linewidths=[3],\n",
    "        colors=[\"black\"],\n",
    "    )\n",
    "\n",
    "    plt.tight_layout()\n",
    "    plt.subplots_adjust(wspace=0.1)\n",
    "    if save:\n",
    "        plt.savefig(f\"out/img_{i}.png\")\n",
    "        plt.close()\n",
    "    else:\n",
    "        plt.show()"
   ]
  },
  {
   "attachments": {},
   "cell_type": "markdown",
   "metadata": {},
   "source": [
    "### Build a cell"
   ]
  },
  {
   "cell_type": "code",
   "execution_count": 3,
   "metadata": {},
   "outputs": [],
   "source": [
    "N_mesh, L_box = 200, 50\n",
    "\n",
    "# define base substrate\n",
    "simbox = SimulationBox(\"../configs/simbox.yaml\")\n",
    "sub = Substrate(N_mesh, L_box, xi=0.2)\n",
    "chi = sub.two_state_sub()\n",
    "\n",
    "config_file = \"../configs/integrins/grid_id0/cell0.yaml\"\n",
    "\n",
    "cell = Cell(config_file, simbox)\n",
    "cell.W = 0.5 * cell.g * chi\n"
   ]
  },
  {
   "attachments": {},
   "cell_type": "markdown",
   "metadata": {},
   "source": [
    "# Polarization field"
   ]
  },
  {
   "cell_type": "code",
   "execution_count": 4,
   "metadata": {},
   "outputs": [],
   "source": [
    "def update_pol_field(cell, dphi_dt, D):\n",
    "    p_field = cell.p_field\n",
    "    phi = cell.phi\n",
    "    tau_d = 1\n",
    "    dt = cell.simbox.dt\n",
    "    dx = cell.simbox.dx\n",
    "    noise = np.sqrt(4 * D**2 * dt / dx**2) * np.random.randn(*phi.shape)\n",
    "    return p_field + dt * phi * dphi_dt - dt / tau_d * p_field + noise * phi"
   ]
  },
  {
   "cell_type": "code",
   "execution_count": 5,
   "metadata": {},
   "outputs": [],
   "source": [
    "from potential.force import Force\n",
    "from helper_functions import helper_functions as ha\n",
    "\n",
    "force_calculator = Force(\"../configs/energy.yaml\")\n",
    "dt = cell.simbox.dt\n",
    "\n",
    "def update(cell, i, s):\n",
    "    grad_x, grad_y, _ = ha.compute_gradients(cell.phi, cell.simbox.dx)\n",
    "    grad_phi = np.array([grad_x, grad_y])\n",
    "    eta = cell.eta\n",
    "    phi = cell.phi\n",
    "    p_field = cell.p_field\n",
    "    \n",
    "    # phi_(n+1)\n",
    "    # CH and area energy terms\n",
    "    phi_i_next, dF_dphi = ha._update_field(cell, grad_phi, force_calculator)\n",
    "    dphi_dt = (phi_i_next - phi) / dt\n",
    "\n",
    "    # compute forces at time n\n",
    "    fx_thermo = dF_dphi * grad_x\n",
    "    fy_thermo = dF_dphi * grad_y\n",
    "\n",
    "    norm_grad_phi = np.sqrt(np.sum(grad_phi * grad_phi, axis=0))\n",
    "    n_field = -1 * grad_phi / (norm_grad_phi + 1e-10)\n",
    "    A = 100\n",
    "    fx_motil = A * p_field * phi**2 * (1-phi)**2 * n_field[0]\n",
    "    fy_motil = A * p_field * phi**2 * (1-phi)**2 * n_field[1]\n",
    "\n",
    "    # UPDATE class variables now\n",
    "    cell.phi = phi_i_next\n",
    "    cell.vx = (fx_thermo + fx_motil) / eta\n",
    "    cell.vy = (fy_thermo + fy_motil) / eta\n",
    "    cell.p_field = update_pol_field(cell, dphi_dt, D=0.1)\n",
    "\n",
    "    if i % s == 0:\n",
    "        plot_cell(cell, i=i, save=True)\n",
    "\n",
    "    "
   ]
  },
  {
   "cell_type": "code",
   "execution_count": 7,
   "metadata": {},
   "outputs": [],
   "source": [
    "cell = Cell(config_file, simbox)\n",
    "\n",
    "p_field = np.zeros(shape=cell.phi.shape)\n",
    "p_field[70:120, 110:120] = 1\n",
    "p_field *= cell.phi\n",
    "cell.p_field = p_field\n",
    "\n",
    "for i in range(10000):\n",
    "    f = update(cell, i, s=100)"
   ]
  },
  {
   "cell_type": "code",
   "execution_count": null,
   "metadata": {},
   "outputs": [],
   "source": [
    "from glob import glob\n",
    "import os\n",
    "import numpy as np\n",
    "\n",
    "files = glob(f\"out/*.png\")\n",
    "ids = [int(f.split(\"/\")[-1].split(\"_\")[1].split(\".\")[0]) for f in files]\n",
    "\n",
    "sort_indx = np.argsort(ids)\n",
    "\n",
    "for i, indx in enumerate(sort_indx):\n",
    "    curr_file = files[indx]\n",
    "    new_file = f\"out/img_{i}.png\"\n",
    "    cmd = f\"mv {curr_file} {new_file} > null\"\n",
    "    os.system(cmd)\n",
    "\n",
    "print(\"Making a movie...\")\n",
    "cmd = f\"ffmpeg -i out/img_%d.png -b:v 4M -s 500x500 -pix_fmt yuv420p mov.mp4 -y -hide_banner -loglevel fatal\"\n",
    "os.system(cmd)\n",
    "\n",
    "from IPython.display import Video\n",
    "Video(\"mov.mp4\")"
   ]
  },
  {
   "attachments": {},
   "cell_type": "markdown",
   "metadata": {},
   "source": [
    "# $R(\\theta)$ approach"
   ]
  },
  {
   "cell_type": "code",
   "execution_count": null,
   "metadata": {},
   "outputs": [],
   "source": [
    "def trace_bd(cntr):\n",
    "    x, y = cntr[:, 1], cntr[:, 0]\n",
    "    Ox, Oy = np.mean(x), np.mean(y)\n",
    "    angles = np.arctan2(y - Oy, x - Ox)\n",
    "    r2 = (x - Ox) ** 2 + (y - Oy) ** 2\n",
    "    tups = list(zip(angles, np.sqrt(r2)))\n",
    "    return np.array(sorted(tups, key=lambda x: x[0]))\n"
   ]
  },
  {
   "cell_type": "code",
   "execution_count": null,
   "metadata": {},
   "outputs": [
    {
     "data": {
      "image/png": "[encoded data removed]",
      "text/plain": [
       "<Figure size 640x480 with 1 Axes>"
      ]
     },
     "metadata": {},
     "output_type": "display_data"
    },
    {
     "data": {
      "text/plain": [
       "(30.0, 33.0)"
      ]
     },
     "execution_count": 9,
     "metadata": {},
     "output_type": "execute_result"
    },
    {
     "data": {
      "image/png": "[encoded data removed]",
      "text/plain": [
       "<Figure size 640x480 with 1 Axes>"
      ]
     },
     "metadata": {},
     "output_type": "display_data"
    }
   ],
   "source": [
    "phi = cell.phi\n",
    "cntr = cell.contour[0]\n",
    "\n",
    "plt.scatter(cntr[:, 1], cntr[:, 0])\n",
    "plt.axis(\"equal\")\n",
    "plt.show()\n",
    "\n",
    "R_theta = trace_bd(cntr)\n",
    "plt.plot(R_theta[:, 0], R_theta[:, 1])\n",
    "plt.ylim([30, 33])"
   ]
  },
  {
   "attachments": {},
   "cell_type": "markdown",
   "metadata": {},
   "source": [
    "# Misc"
   ]
  },
  {
   "cell_type": "code",
   "execution_count": null,
   "metadata": {},
   "outputs": [
    {
     "data": {
      "image/png": "[encoded data removed]",
      "text/plain": [
       "<Figure size 640x480 with 3 Axes>"
      ]
     },
     "metadata": {},
     "output_type": "display_data"
    },
    {
     "ename": "TypeError",
     "evalue": "update() missing 1 required positional argument: 's'",
     "output_type": "error",
     "traceback": [
      "\u001b[0;31m---------------------------------------------------------------------------\u001b[0m",
      "\u001b[0;31mTypeError\u001b[0m                                 Traceback (most recent call last)",
      "Cell \u001b[0;32mIn [10], line 37\u001b[0m\n\u001b[1;32m     34\u001b[0m \u001b[39m###################\u001b[39;00m\n\u001b[1;32m     36\u001b[0m \u001b[39mfor\u001b[39;00m i \u001b[39min\u001b[39;00m \u001b[39mrange\u001b[39m(\u001b[39m3000\u001b[39m):\n\u001b[0;32m---> 37\u001b[0m     update(cell, p_field)    \n\u001b[1;32m     39\u001b[0m \u001b[39m###################\u001b[39;00m\n\u001b[1;32m     41\u001b[0m plt\u001b[39m.\u001b[39msubplot(\u001b[39m121\u001b[39m)\n",
      "\u001b[0;31mTypeError\u001b[0m: update() missing 1 required positional argument: 's'"
     ]
    }
   ],
   "source": [
    "cell = Cell(config_file, simbox)\n",
    "phi = cell.phi\n",
    "p_field = np.zeros(shape=phi.shape)\n",
    "p_field[125:150, 30:45] = 16000\n",
    "p_field[70:80, 25:40] = 900\n",
    "p_field[70:80, 60:70] = 900\n",
    "\n",
    "p_field *= phi**2 * (1-phi)**2\n",
    "\n",
    "dt = simbox.dt\n",
    "tau = 3\n",
    "D = 0.5\n",
    "\n",
    "plt.subplot(121)\n",
    "plt.imshow(\n",
    "    cell.phi, extent=[0, L_box, 0, L_box], origin=\"lower\", cmap=\"Blues\", alpha=0.8\n",
    ")\n",
    "plt.contour(\n",
    "    cell.phi,\n",
    "    levels=[0.5],\n",
    "    extent=[0, L_box, 0, L_box],\n",
    "    origin=\"lower\",\n",
    "    linewidths=[3],\n",
    "    colors=[\"black\"],\n",
    ")\n",
    "plt.subplot(122)\n",
    "plt.imshow(\n",
    "    p_field, extent=[0, L_box, 0, L_box], origin=\"lower\", cmap=\"PiYG\", alpha=0.9\n",
    ")\n",
    "cbar = plt.colorbar()\n",
    "cbar.set_label(\"Polarization field\")\n",
    "plt.show()\n",
    "\n",
    "###################\n",
    "\n",
    "for i in range(3000):\n",
    "    update(cell, p_field)    \n",
    "\n",
    "###################\n",
    "\n",
    "plt.subplot(121)\n",
    "plt.imshow(\n",
    "    cell.phi, extent=[0, L_box, 0, L_box], origin=\"lower\", cmap=\"Blues\", alpha=0.8\n",
    ")\n",
    "plt.contour(\n",
    "    cell.phi,\n",
    "    levels=[0.5],\n",
    "    extent=[0, L_box, 0, L_box],\n",
    "    origin=\"lower\",\n",
    "    linewidths=[3],\n",
    "    colors=[\"black\"],\n",
    ")\n",
    "plt.subplot(122)\n",
    "plt.imshow(\n",
    "    p_field, extent=[0, L_box, 0, L_box], origin=\"lower\", cmap=\"PiYG\", alpha=0.9\n",
    ")\n",
    "cbar = plt.colorbar()\n",
    "cbar.set_label(\"Polarization field\")\n",
    "plt.show()\n"
   ]
  },
  {
   "cell_type": "code",
   "execution_count": null,
   "metadata": {},
   "outputs": [],
   "source": [
    "cntr = ha.find_contour(cell.phi)[0]\n",
    "dx = simbox.dx\n",
    "plt.scatter(cntr[:, 1]*dx, cntr[:, 0]*dx)\n",
    "plt.ylim([0, 50])\n",
    "plt.xlim([0, 50])\n"
   ]
  },
  {
   "cell_type": "code",
   "execution_count": null,
   "metadata": {},
   "outputs": [],
   "source": [
    "phi_f = cell.phi\n",
    "cell_o = Cell(config_file, simbox)\n",
    "phi_o = cell_o.phi\n",
    "\n"
   ]
  },
  {
   "cell_type": "code",
   "execution_count": null,
   "metadata": {},
   "outputs": [],
   "source": [
    "plt.imshow(\n",
    "    phi_f - phi_o, extent=[0, L_box, 0, L_box], origin=\"lower\", cmap=\"Blues\", alpha=0.8\n",
    ")\n",
    "plt.colorbar()"
   ]
  },
  {
   "cell_type": "code",
   "execution_count": null,
   "metadata": {},
   "outputs": [],
   "source": [
    "def norm_vec(field, dx):\n",
    "    grad_x, grad_y, _ = ha.compute_gradients(field, dx)\n",
    "    grad_phi = np.array([grad_x, grad_y])\n",
    "    norm_grad_phi = np.sqrt(np.sum(grad_phi * grad_phi, axis=0))\n",
    "    n_field = -1 * grad_phi / (norm_grad_phi + 1e-10)\n",
    "    return n_field"
   ]
  },
  {
   "cell_type": "code",
   "execution_count": null,
   "metadata": {},
   "outputs": [],
   "source": [
    "x = np.arange(0, N_mesh, 1)\n",
    "xg, yg = np.meshgrid(x, x)\n",
    "\n",
    "nx, ny = norm_vec(phi_o, dx)\n",
    "\n",
    "cntr = ha.find_contour(phi_o)[0]\n",
    "x_indx = list(map(int, cntr[:, 1]))\n",
    "y_indx = list(map(int, cntr[:, 0]))\n",
    "\n",
    "qx = np.zeros(shape=nx.shape)\n",
    "qy = np.zeros(shape=nx.shape)\n",
    "\n",
    "qx[y_indx, x_indx] = nx[y_indx, x_indx]\n",
    "qy[y_indx, x_indx] = ny[y_indx, x_indx]\n",
    "\n",
    "plt.scatter(cntr[:, 1], cntr[:, 0], color=\"red\")\n",
    "plt.quiver(xg, yg, qx, qy, scale_units=\"inches\", scale=2)\n",
    "plt.axis(\"equal\")"
   ]
  },
  {
   "cell_type": "code",
   "execution_count": null,
   "metadata": {},
   "outputs": [],
   "source": [
    "x = np.arange(0, N_mesh, 1)\n",
    "xg, yg = np.meshgrid(x, x)\n",
    "\n",
    "nx, ny = norm_vec(phi_f, dx)\n",
    "\n",
    "cntr = ha.find_contour(phi_f)[0]\n",
    "x_indx = list(map(int, cntr[:, 1]))\n",
    "y_indx = list(map(int, cntr[:, 0]))\n",
    "\n",
    "qx = np.zeros(shape=nx.shape)\n",
    "qy = np.zeros(shape=nx.shape) \n",
    "\n",
    "qx[y_indx, x_indx] = nx[y_indx, x_indx]\n",
    "qy[y_indx, x_indx] = ny[y_indx, x_indx]\n",
    "\n",
    "plt.scatter(cntr[:, 1], cntr[:, 0], color=\"red\")\n",
    "plt.quiver(xg, yg, qx, qy, scale_units=\"inches\", scale=2)\n",
    "plt.axis(\"equal\")"
   ]
  },
  {
   "cell_type": "code",
   "execution_count": null,
   "metadata": {},
   "outputs": [],
   "source": [
    "div_F = np.sum(np.gradient([qx.flatten(), ny.flatten()], dx, axis=1), axis=0).reshape(nx.shape)\n",
    "\n",
    "plt.imshow(div_F, extent=[0, L_box, 0, L_box], origin=\"lower\")\n",
    "cbar = plt.colorbar()\n",
    "cbar.set_label(r\"$\\nabla \\cdot \\hat{n}$\")\n",
    "plt.tight_layout()"
   ]
  }
 ],
 "metadata": {
  "kernelspec": {
   "display_name": "ccam",
   "language": "python",
   "name": "python3"
  },
  "language_info": {
   "codemirror_mode": {
    "name": "ipython",
    "version": 3
   },
   "file_extension": ".py",
   "mimetype": "text/x-python",
   "name": "python",
   "nbconvert_exporter": "python",
   "pygments_lexer": "ipython3",
   "version": "3.10.8 (main, Nov  4 2022, 13:48:29) [GCC 11.2.0]"
  },
  "orig_nbformat": 4,
  "vscode": {
   "interpreter": {
    "hash": "9713f7ebc46dc75c7725b05c41e89d9728ea3866542c1de8245d612948f7117b"
   }
  }
 },
 "nbformat": 4,
 "nbformat_minor": 2
}
